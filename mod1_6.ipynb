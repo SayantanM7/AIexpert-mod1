{
  "nbformat": 4,
  "nbformat_minor": 0,
  "metadata": {
    "colab": {
      "provenance": [],
      "authorship_tag": "ABX9TyNewmANM92AorD1LgxjsqFm",
      "include_colab_link": true
    },
    "kernelspec": {
      "name": "python3",
      "display_name": "Python 3"
    },
    "language_info": {
      "name": "python"
    }
  },
  "cells": [
    {
      "cell_type": "markdown",
      "metadata": {
        "id": "view-in-github",
        "colab_type": "text"
      },
      "source": [
        "<a href=\"https://colab.research.google.com/github/SayantanM7/AIexpert-mod1/blob/main/mod1_6.ipynb\" target=\"_parent\"><img src=\"https://colab.research.google.com/assets/colab-badge.svg\" alt=\"Open In Colab\"/></a>"
      ]
    },
    {
      "cell_type": "code",
      "execution_count": 3,
      "metadata": {
        "id": "_kxpdvfYAK-H"
      },
      "outputs": [],
      "source": [
        "from colorama import Fore, Style, init\n",
        "import time\n",
        "\n",
        "# Initialize Colorama\n",
        "init(autoreset=True)\n"
      ]
    },
    {
      "cell_type": "code",
      "source": [
        "GENRES = [\n",
        "    \"Action\", \"Comedy\", \"Drama\", \"Horror\", \"Romance\",\n",
        "    \"Sci-Fi\", \"Fantasy\", \"Thriller\", \"Documentary\", \"Animation\"\n",
        "]\n",
        "\n",
        "def list_genres():\n",
        "    print(Fore.CYAN + \"Available Genres:\")\n",
        "    for idx, genre in enumerate(GENRES, 1):\n",
        "        print(f\"{idx}. {genre}\")\n"
      ],
      "metadata": {
        "id": "qguoMGM-A0gP"
      },
      "execution_count": 4,
      "outputs": []
    },
    {
      "cell_type": "code",
      "source": [
        "def analyze_mood(mood_input):\n",
        "    # Placeholder: Replace with real sentiment/mood detection\n",
        "    mood = mood_input.lower()\n",
        "    if \"happy\" in mood:\n",
        "        return \"uplifting\"\n",
        "    elif \"sad\" in mood:\n",
        "        return \"emotional\"\n",
        "    elif \"bored\" in mood:\n",
        "        return \"exciting\"\n",
        "    return \"balanced\"\n"
      ],
      "metadata": {
        "id": "MM7xpRbqBMu0"
      },
      "execution_count": 5,
      "outputs": []
    },
    {
      "cell_type": "code",
      "source": [
        "def get_mock_recommendations(genre, mood_type, min_rating):\n",
        "    # Simulated movie DB query\n",
        "    recommendations = [\n",
        "        {\"title\": \"Inception\", \"genre\": \"Sci-Fi\", \"rating\": 8.8},\n",
        "        {\"title\": \"The Notebook\", \"genre\": \"Romance\", \"rating\": 7.9},\n",
        "        {\"title\": \"The Dark Knight\", \"genre\": \"Action\", \"rating\": 9.0},\n",
        "        {\"title\": \"Inside Out\", \"genre\": \"Animation\", \"rating\": 8.2},\n",
        "    ]\n",
        "    return [\n",
        "        movie for movie in recommendations\n",
        "        if movie[\"genre\"] == genre and movie[\"rating\"] >= min_rating\n",
        "    ]\n"
      ],
      "metadata": {
        "id": "8lV0W-UkBSpt"
      },
      "execution_count": 6,
      "outputs": []
    },
    {
      "cell_type": "code",
      "source": [
        "def handle_ai(name):\n",
        "    while True:\n",
        "        list_genres()\n",
        "        genre_input = input(Fore.YELLOW + \"\\nChoose a genre by name or number: \").strip()\n",
        "        if genre_input.isdigit():\n",
        "            genre_index = int(genre_input) - 1\n",
        "            genre = GENRES[genre_index] if 0 <= genre_index < len(GENRES) else None\n",
        "        else:\n",
        "            genre = genre_input.title() if genre_input.title() in GENRES else None\n",
        "\n",
        "        if not genre:\n",
        "            print(Fore.RED + \"Invalid genre. Please try again.\\n\")\n",
        "            continue\n",
        "\n",
        "        mood_input = input(Fore.YELLOW + \"How are you feeling today? \").strip()\n",
        "        mood_type = analyze_mood(mood_input)\n",
        "\n",
        "        rating_input = input(Fore.YELLOW + \"Minimum IMDb rating (or press Enter to skip): \").strip()\n",
        "        min_rating = float(rating_input) if rating_input else 0.0\n",
        "\n",
        "        print(Fore.BLUE + \"\\nFetching recommendations\", end=\"\")\n",
        "        for _ in range(3):\n",
        "            time.sleep(0.5)\n",
        "            print(\".\", end=\"\", flush=True)\n",
        "        print(\"\\n\")\n",
        "\n",
        "        results = get_mock_recommendations(genre, mood_type, min_rating)\n",
        "        if not results:\n",
        "            print(Fore.RED + \"No movies found. Try adjusting your filters.\\n\")\n",
        "        else:\n",
        "            print(Fore.GREEN + f\"\\n🎉 Recommended Movies for {name}:\\n\")\n",
        "            for movie in results:\n",
        "                print(f\"- {movie['title']} (IMDb {movie['rating']})\")\n",
        "            print()\n",
        "\n",
        "        again = input(Fore.YELLOW + \"Would you like more recommendations? (yes/no): \").strip().lower()\n",
        "        if again not in (\"yes\", \"y\"):\n",
        "            print(Fore.CYAN + \"\\nThanks for using the Movie Recommendation Assistant! 🎬\")\n",
        "            break\n"
      ],
      "metadata": {
        "id": "t9qA7JoHBT9s"
      },
      "execution_count": 7,
      "outputs": []
    },
    {
      "cell_type": "code",
      "source": [
        "def main():\n",
        "    print(Fore.BLUE + \"🎥 Welcome to your Personal Movie Recommendation Assistant! 🎥\\n\")\n",
        "    name = input(Fore.YELLOW + \"What's your name? \").strip()\n",
        "    print(f\"\\n{Fore.GREEN}Great to meet you, {name}!\\n\")\n",
        "    handle_ai(name)\n",
        "\n",
        "if __name__ == \"__main__\":\n",
        "    main()\n"
      ],
      "metadata": {
        "colab": {
          "base_uri": "https://localhost:8080/"
        },
        "id": "uDqSOv70BXds",
        "outputId": "d2d91af1-a406-4cc1-fcc7-47f524bcb058"
      },
      "execution_count": 8,
      "outputs": [
        {
          "output_type": "stream",
          "name": "stdout",
          "text": [
            "🎥 Welcome to your Personal Movie Recommendation Assistant! 🎥\n",
            "\n",
            "\u001b[33mWhat's your name? Ricky\n",
            "\n",
            "Great to meet you, Ricky!\n",
            "\n",
            "Available Genres:\n",
            "1. Action\n",
            "2. Comedy\n",
            "3. Drama\n",
            "4. Horror\n",
            "5. Romance\n",
            "6. Sci-Fi\n",
            "7. Fantasy\n",
            "8. Thriller\n",
            "9. Documentary\n",
            "10. Animation\n",
            "\u001b[33m\n",
            "Choose a genre by name or number: 10\n",
            "\u001b[33mHow are you feeling today? good\n",
            "\u001b[33mMinimum IMDb rating (or press Enter to skip): \n",
            "\n",
            "Fetching recommendations...\n",
            "\n",
            "\n",
            "🎉 Recommended Movies for Ricky:\n",
            "\n",
            "- Inside Out (IMDb 8.2)\n",
            "\n",
            "\u001b[33mWould you like more recommendations? (yes/no): no\n",
            "\n",
            "Thanks for using the Movie Recommendation Assistant! 🎬\n"
          ]
        }
      ]
    }
  ]
}
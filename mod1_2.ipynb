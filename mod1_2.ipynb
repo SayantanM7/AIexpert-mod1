{
  "nbformat": 4,
  "nbformat_minor": 0,
  "metadata": {
    "colab": {
      "provenance": [],
      "authorship_tag": "ABX9TyPFtk70SWGpbzjUW/MOoCZp",
      "include_colab_link": true
    },
    "kernelspec": {
      "name": "python3",
      "display_name": "Python 3"
    },
    "language_info": {
      "name": "python"
    }
  },
  "cells": [
    {
      "cell_type": "markdown",
      "metadata": {
        "id": "view-in-github",
        "colab_type": "text"
      },
      "source": [
        "<a href=\"https://colab.research.google.com/github/SayantanM7/AIexpert-mod1/blob/main/mod1_2.ipynb\" target=\"_parent\"><img src=\"https://colab.research.google.com/assets/colab-badge.svg\" alt=\"Open In Colab\"/></a>"
      ]
    },
    {
      "cell_type": "code",
      "execution_count": 4,
      "metadata": {
        "colab": {
          "base_uri": "https://localhost:8080/"
        },
        "id": "ptDmJIRd3QCv",
        "outputId": "d7337058-7900-4a9a-9391-92549e1c5949"
      },
      "outputs": [
        {
          "output_type": "stream",
          "name": "stdout",
          "text": [
            "👋🎉 Welcome to Sentiment Spy! 🕵️\n",
            "Please enter your name:  Ricky\n",
            "\n",
            "Hello, Agent Ricky!\n",
            "Type a sentence and I will analyze its sentiment with TextBlob.\n",
            "Type 'reset', 'history', or 'exit' to quit.\n",
            "\n",
            "\u001b[32m>> \u001b[0mgood boy\n",
            "😊 Positive sentiment detected! (Polarity: 0.70)\n",
            "\u001b[32m>> \u001b[0mexit\n",
            "\n",
            "🚪 Exiting Sentiment Spy. Farewell, Agent Ricky! 🏁\n"
          ]
        }
      ],
      "source": [
        "import colorama\n",
        "from colorama import Fore, Style\n",
        "from textblob import TextBlob\n",
        "\n",
        "def analyze_sentiment(text):\n",
        "    \"\"\"\n",
        "    Analyzes the sentiment of the given text using TextBlob.\n",
        "\n",
        "    Args:\n",
        "        text (str): The text to analyze.\n",
        "\n",
        "    Returns:\n",
        "        tuple: A tuple containing the sentiment polarity (-1 to 1) and\n",
        "               a string describing the sentiment (\"Positive\", \"Negative\", or \"Neutral\").\n",
        "               Returns (0, \"Neutral\") if an error occurs.\n",
        "    \"\"\"\n",
        "    try:\n",
        "        analysis = TextBlob(text)\n",
        "        polarity = analysis.sentiment.polarity\n",
        "        if polarity > 0.25:\n",
        "            sentiment_type = \"Positive\"\n",
        "        elif polarity < -0.25:\n",
        "            sentiment_type = \"Negative\"\n",
        "        else:\n",
        "            sentiment_type = \"Neutral\"\n",
        "        return polarity, sentiment_type\n",
        "    except Exception as e:\n",
        "        print(f\"{Fore.RED}Error analyzing sentiment: {e}. Returning Neutral.{Style.RESET_ALL}\")\n",
        "        return 0, \"Neutral\"\n",
        "\n",
        "def get_colored_sentiment_string(sentiment_type, polarity):\n",
        "    \"\"\"\n",
        "    Returns a colored string representation of the sentiment, along with an emoji.\n",
        "\n",
        "    Args:\n",
        "        sentiment_type (str): The sentiment type (\"Positive\", \"Negative\", or \"Neutral\").\n",
        "        polarity (float): The sentiment polarity.\n",
        "\n",
        "    Returns:\n",
        "        str: The colored sentiment string with emoji.\n",
        "    \"\"\"\n",
        "    if sentiment_type == \"Positive\":\n",
        "        color = Fore.GREEN\n",
        "        emoji = \"😊\"\n",
        "    elif sentiment_type == \"Negative\":\n",
        "        color = Fore.RED\n",
        "        emoji = \"😢\"\n",
        "    else:\n",
        "        color = Fore.YELLOW\n",
        "        emoji = \"😐\"\n",
        "    return f\"{color}{emoji} {sentiment_type} sentiment detected! (Polarity: {polarity:.2f}){Style.RESET_ALL}\"\n",
        "\n",
        "def main():\n",
        "    \"\"\"\n",
        "    Main function to run the Sentiment Spy program.\n",
        "    \"\"\"\n",
        "    colorama.init()  # Initialize colorama for colored terminal output\n",
        "    print(f\"{Fore.CYAN}👋🎉 Welcome to Sentiment Spy! 🕵️{Style.RESET_ALL}\")\n",
        "    user_name = input(f\"Please enter your name:  \").strip()\n",
        "    if not user_name:\n",
        "        user_name = \"Mystery Agent\"  # Fallback if user doesn't provide a name\n",
        "\n",
        "    print(f\"\\n{Fore.CYAN}Hello, Agent {user_name}!\")\n",
        "    print(\"Type a sentence and I will analyze its sentiment with TextBlob.\")\n",
        "    print(f\"Type {Fore.YELLOW}'reset'{Fore.CYAN}, {Fore.YELLOW}'history'{Fore.CYAN}, or {Fore.YELLOW}'exit'{Fore.CYAN} to quit.{Style.RESET_ALL}\\n\")\n",
        "\n",
        "    conversation_history = []  # Store analyzed sentences\n",
        "\n",
        "    while True:\n",
        "        user_input = input(f\"{Fore.GREEN}>> {Style.RESET_ALL}\").strip()\n",
        "        if not user_input:\n",
        "            print(f\"{Fore.RED}Please enter some text or a valid command.{Style.RESET_ALL}\")\n",
        "            continue\n",
        "\n",
        "        if user_input.lower() == \"exit\":\n",
        "            print(f\"\\n{Fore.BLUE}🚪 Exiting Sentiment Spy. Farewell, Agent {user_name}! 🏁{Style.RESET_ALL}\")\n",
        "            break\n",
        "        elif user_input.lower() == \"reset\":\n",
        "            conversation_history.clear()\n",
        "            print(f\"{Fore.CYAN}🎉 All conversation history cleared!{Style.RESET_ALL}\")\n",
        "            continue\n",
        "        elif user_input.lower() == \"history\":\n",
        "            if not conversation_history:\n",
        "                print(f\"{Fore.YELLOW}No conversation history yet.{Style.RESET_ALL}\")\n",
        "            else:\n",
        "                print(f\"{Fore.CYAN}📜 Conversation History:{Style.RESET_ALL}\")\n",
        "                for idx, (text, polarity, sentiment_type) in enumerate(conversation_history, start=1):\n",
        "                    colored_sentiment_string = get_colored_sentiment_string(sentiment_type, polarity)\n",
        "                    print(f\"{idx}. {colored_sentiment_string.replace(f' (Polarity: {polarity:.2f})','')}  (Polarity: {polarity:.2f})\") #Added formatting to match output\n",
        "            continue\n",
        "\n",
        "        # Analyze sentiment of user input\n",
        "        polarity, sentiment_type = analyze_sentiment(user_input)\n",
        "        colored_sentiment_string = get_colored_sentiment_string(sentiment_type, polarity)\n",
        "        print(colored_sentiment_string)\n",
        "        conversation_history.append((user_input, polarity, sentiment_type)) #stores the user input\n",
        "\n",
        "if __name__ == \"__main__\":\n",
        "    main()\n",
        "\n"
      ]
    },
    {
      "cell_type": "code",
      "source": [],
      "metadata": {
        "id": "boeMYsEN4VJj"
      },
      "execution_count": null,
      "outputs": []
    }
  ]
}
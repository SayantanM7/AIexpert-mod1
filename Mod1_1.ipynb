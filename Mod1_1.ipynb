{
  "nbformat": 4,
  "nbformat_minor": 0,
  "metadata": {
    "colab": {
      "provenance": [],
      "authorship_tag": "ABX9TyMaj4oh02/D6dKg6Dr7W8zu",
      "include_colab_link": true
    },
    "kernelspec": {
      "name": "python3",
      "display_name": "Python 3"
    },
    "language_info": {
      "name": "python"
    }
  },
  "cells": [
    {
      "cell_type": "markdown",
      "metadata": {
        "id": "view-in-github",
        "colab_type": "text"
      },
      "source": [
        "<a href=\"https://colab.research.google.com/github/SayantanM7/AIexpert-mod1-1/blob/main/Mod1_1.ipynb\" target=\"_parent\"><img src=\"https://colab.research.google.com/assets/colab-badge.svg\" alt=\"Open In Colab\"/></a>"
      ]
    },
    {
      "cell_type": "code",
      "execution_count": null,
      "metadata": {
        "id": "9lR3pECAxRpJ"
      },
      "outputs": [],
      "source": []
    },
    {
      "cell_type": "markdown",
      "source": [
        "Introduction to python, install VS Code, Introduction to GIT, intro to basic AI"
      ],
      "metadata": {
        "id": "WOVXkdVwzmAQ"
      }
    },
    {
      "cell_type": "code",
      "source": [
        "#a small program\n",
        "print(\"hello, I am your AI chatbot\")\n",
        "name=input(\"Please enter your name \")\n",
        "print(f\"Hello {name}, nice to meet you\")\n",
        "print(\"How are you feeling today good or bad?\")\n",
        "response=input().lower()\n",
        "if (response==\"good\"):\n",
        "  print(\"That's great! good to hear that\")\n",
        "elif(response==\"bad\"):\n",
        "  print(\"Oh sorry to hear that\")\n",
        "else:\n",
        "  print(\"Sometimes it is hard to express feelings into words\")\n"
      ],
      "metadata": {
        "colab": {
          "base_uri": "https://localhost:8080/"
        },
        "id": "jWsfTFEbzjbv",
        "outputId": "973c7b14-3e03-4871-f6b7-8f07ed36b696"
      },
      "execution_count": 2,
      "outputs": [
        {
          "output_type": "stream",
          "name": "stdout",
          "text": [
            "hello, I am your AI chatbot\n",
            "Please enter your name Ricky\n",
            "Hello Ricky, nice to meet you\n",
            "How are you feeling today good or bad?\n",
            "good\n",
            "That's great! good to hear that\n"
          ]
        }
      ]
    }
  ]
}
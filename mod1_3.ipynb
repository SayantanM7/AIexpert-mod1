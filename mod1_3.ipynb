{
  "nbformat": 4,
  "nbformat_minor": 0,
  "metadata": {
    "colab": {
      "provenance": [],
      "authorship_tag": "ABX9TyOJzTEMMqa+fwsRl02RpLFa",
      "include_colab_link": true
    },
    "kernelspec": {
      "name": "python3",
      "display_name": "Python 3"
    },
    "language_info": {
      "name": "python"
    }
  },
  "cells": [
    {
      "cell_type": "markdown",
      "metadata": {
        "id": "view-in-github",
        "colab_type": "text"
      },
      "source": [
        "<a href=\"https://colab.research.google.com/github/SayantanM7/AIexpert-mod1/blob/main/mod1_3.ipynb\" target=\"_parent\"><img src=\"https://colab.research.google.com/assets/colab-badge.svg\" alt=\"Open In Colab\"/></a>"
      ]
    },
    {
      "cell_type": "code",
      "execution_count": 3,
      "metadata": {
        "colab": {
          "base_uri": "https://localhost:8080/"
        },
        "id": "T8yvbVSa52RL",
        "outputId": "c062cd8f-57ff-4c1c-c48a-db816efc7fed"
      },
      "outputs": [
        {
          "output_type": "stream",
          "name": "stdout",
          "text": [
            "Hello! I’m TravelBot.\n",
            "\u001b[33mYour name? Ricky\n",
            "Nice to meet you, Ricky!\n",
            "\n",
            "I can:\n",
            "- Suggest travel spots (say ‘recommendation’)\n",
            "- Offer packing tips (say ‘packing’)\n",
            "- Tell a joke (say ‘joke’)\n",
            "Type ‘exit’ or ‘bye’ to end.\n",
            "\n",
            "\u001b[33mRicky: recommendation\n",
            "TravelBot: Beaches, mountains, or cities?\n",
            "\u001b[33mYou: mountains\n",
            "TravelBot: How about Rocky Mountains?\n",
            "TravelBot: Do you like it? (yes/no)\n",
            "\u001b[33mYou: yes\n",
            "TravelBot: Awesome! Enjoy Rocky Mountains!\n",
            "\n",
            "I can:\n",
            "- Suggest travel spots (say ‘recommendation’)\n",
            "- Offer packing tips (say ‘packing’)\n",
            "- Tell a joke (say ‘joke’)\n",
            "Type ‘exit’ or ‘bye’ to end.\n",
            "\n",
            "\u001b[33mRicky: exit\n",
            "TravelBot: Safe travels! Goodbye!\n"
          ]
        }
      ],
      "source": [
        "import re\n",
        "import random\n",
        "from colorama import Fore, init\n",
        "\n",
        "# 2. Initializing Colorama\n",
        "init(autoreset=True)\n",
        "\n",
        "# 3. Data Definitions: Destinations and Jokes\n",
        "destinations = {\n",
        "    \"beaches\": [\"Bali\", \"Maldives\", \"Phuket\"],\n",
        "    \"mountains\": [\"Swiss Alps\", \"Rocky Mountains\", \"Himalayas\"],\n",
        "    \"cities\": [\"Tokyo\", \"Paris\", \"New York\"]\n",
        "}\n",
        "jokes = [\n",
        "    \"Why don’t programmers like nature? Too many bugs!\",\n",
        "    \"Why did the computer go to the doctor? Because it had a virus!\",\n",
        "    \"Why do travelers always feel warm? Because of all their hot spots!\"\n",
        "]\n",
        "\n",
        "# 4. Helper Function: Normalizing User Input\n",
        "def normalize_input(text):\n",
        "    return re.sub(r\"\\s+\", \" \", text.strip().lower())\n",
        "\n",
        "# 5. Function: Travel Recommendations\n",
        "def recommend():\n",
        "    print(Fore.CYAN + \"TravelBot: Beaches, mountains, or cities?\")\n",
        "    preference = input(Fore.YELLOW + \"You: \")\n",
        "    preference = normalize_input(preference)\n",
        "    if preference in destinations:\n",
        "        suggestion = random.choice(destinations[preference])\n",
        "        print(Fore.GREEN + f\"TravelBot: How about {suggestion}?\")\n",
        "        print(Fore.CYAN + \"TravelBot: Do you like it? (yes/no)\")\n",
        "        answer = input(Fore.YELLOW + \"You: \").lower()\n",
        "        if answer == \"yes\":\n",
        "            print(Fore.GREEN + f\"TravelBot: Awesome! Enjoy {suggestion}!\")\n",
        "        elif answer == \"no\":\n",
        "            print(Fore.RED + \"TravelBot: Let’s try another.\")\n",
        "            recommend()  # Recursive call if the user rejects the suggestion\n",
        "        else:\n",
        "            print(Fore.RED + \"TravelBot: I’ll suggest again.\")\n",
        "            recommend()  # Recursive call on unrecognized answer\n",
        "    else:\n",
        "        print(Fore.RED + \"TravelBot: Sorry, I don’t have that type of destination.\")\n",
        "    show_help()\n",
        "\n",
        "# 6. Function: Packing Tips\n",
        "def packing_tips():\n",
        "    print(Fore.CYAN + \"TravelBot: Where to?\")\n",
        "    location = normalize_input(input(Fore.YELLOW + \"You: \"))\n",
        "    print(Fore.CYAN + \"TravelBot: How many days?\")\n",
        "    days = input(Fore.YELLOW + \"You: \")\n",
        "    print(Fore.GREEN + f\"TravelBot: Packing tips for {days} days in {location}:\")\n",
        "    print(Fore.GREEN + \"- Pack versatile clothes.\")\n",
        "    print(Fore.GREEN + \"- Bring chargers/adapters.\")\n",
        "    print(Fore.GREEN + \"- Check the weather forecast.\")\n",
        "\n",
        "# 7. Function: Tell a Random Joke\n",
        "def tell_joke():\n",
        "    print(Fore.YELLOW + f\"TravelBot: {random.choice(jokes)}\")\n",
        "\n",
        "# 8. Function: Show Help Menu\n",
        "def show_help():\n",
        "    print(Fore.MAGENTA + \"\\nI can:\")\n",
        "    print(Fore.GREEN + \"- Suggest travel spots (say ‘recommendation’)\")\n",
        "    print(Fore.GREEN + \"- Offer packing tips (say ‘packing’)\")\n",
        "    print(Fore.GREEN + \"- Tell a joke (say ‘joke’)\")\n",
        "    print(Fore.CYAN + \"Type ‘exit’ or ‘bye’ to end.\\n\")\n",
        "\n",
        "# 9. Main Chat Loop Function\n",
        "def chat():\n",
        "    print(Fore.CYAN + \"Hello! I’m TravelBot.\")\n",
        "    name = input(Fore.YELLOW + \"Your name? \")\n",
        "    print(Fore.GREEN + f\"Nice to meet you, {name}!\")\n",
        "    show_help()\n",
        "    while True:\n",
        "        user_input = input(Fore.YELLOW + f\"{name}: \")\n",
        "        user_input = normalize_input(user_input)\n",
        "        if \"recommend\" in user_input or \"suggest\" in user_input:\n",
        "            recommend()\n",
        "        elif \"pack\" in user_input or \"packing\" in user_input:\n",
        "            packing_tips()\n",
        "        elif \"joke\" in user_input or \"funny\" in user_input:\n",
        "            tell_joke()\n",
        "        elif \"help\" in user_input:\n",
        "            show_help()\n",
        "        elif \"exit\" in user_input or \"bye\" in user_input:\n",
        "            print(Fore.CYAN + \"TravelBot: Safe travels! Goodbye!\")\n",
        "            break\n",
        "        else:\n",
        "            print(Fore.RED + \"TravelBot: Could you rephrase?\")\n",
        "\n",
        "# 10. Running the Chatbot\n",
        "if __name__ == \"__main__\":\n",
        "    chat()"
      ]
    },
    {
      "cell_type": "code",
      "source": [],
      "metadata": {
        "id": "M1Rj33Kj6AOd"
      },
      "execution_count": null,
      "outputs": []
    }
  ]
}